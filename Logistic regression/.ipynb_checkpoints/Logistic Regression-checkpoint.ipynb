{
 "cells": [
  {
   "cell_type": "markdown",
   "metadata": {},
   "source": [
    "# Load all necessary moduls"
   ]
  },
  {
   "cell_type": "code",
   "execution_count": 1,
   "metadata": {},
   "outputs": [],
   "source": [
    "import pandas as pd\n",
    "import numpy as np\n",
    "import matplotlib.pyplot as plt\n",
    "from sklearn.model_selection import train_test_split\n",
    "from scipy.optimize import*\n",
    "%matplotlib inline"
   ]
  },
  {
   "cell_type": "markdown",
   "metadata": {},
   "source": [
    "# Load the dataset that needed"
   ]
  },
  {
   "cell_type": "code",
   "execution_count": 2,
   "metadata": {},
   "outputs": [
    {
     "data": {
      "text/html": [
       "<div>\n",
       "<style scoped>\n",
       "    .dataframe tbody tr th:only-of-type {\n",
       "        vertical-align: middle;\n",
       "    }\n",
       "\n",
       "    .dataframe tbody tr th {\n",
       "        vertical-align: top;\n",
       "    }\n",
       "\n",
       "    .dataframe thead th {\n",
       "        text-align: right;\n",
       "    }\n",
       "</style>\n",
       "<table border=\"1\" class=\"dataframe\">\n",
       "  <thead>\n",
       "    <tr style=\"text-align: right;\">\n",
       "      <th></th>\n",
       "      <th>X1</th>\n",
       "      <th>X2</th>\n",
       "      <th>Class</th>\n",
       "    </tr>\n",
       "  </thead>\n",
       "  <tbody>\n",
       "    <tr>\n",
       "      <th>0</th>\n",
       "      <td>-0.017612</td>\n",
       "      <td>14.053064</td>\n",
       "      <td>0</td>\n",
       "    </tr>\n",
       "    <tr>\n",
       "      <th>1</th>\n",
       "      <td>-1.395634</td>\n",
       "      <td>4.662541</td>\n",
       "      <td>1</td>\n",
       "    </tr>\n",
       "    <tr>\n",
       "      <th>2</th>\n",
       "      <td>-0.752157</td>\n",
       "      <td>6.538620</td>\n",
       "      <td>0</td>\n",
       "    </tr>\n",
       "    <tr>\n",
       "      <th>3</th>\n",
       "      <td>-1.322371</td>\n",
       "      <td>7.152853</td>\n",
       "      <td>0</td>\n",
       "    </tr>\n",
       "    <tr>\n",
       "      <th>4</th>\n",
       "      <td>0.423363</td>\n",
       "      <td>11.054677</td>\n",
       "      <td>0</td>\n",
       "    </tr>\n",
       "  </tbody>\n",
       "</table>\n",
       "</div>"
      ],
      "text/plain": [
       "         X1         X2  Class\n",
       "0 -0.017612  14.053064      0\n",
       "1 -1.395634   4.662541      1\n",
       "2 -0.752157   6.538620      0\n",
       "3 -1.322371   7.152853      0\n",
       "4  0.423363  11.054677      0"
      ]
     },
     "execution_count": 2,
     "metadata": {},
     "output_type": "execute_result"
    }
   ],
   "source": [
    "df=pd.read_csv(\"test_set.txt\",names=[\"X1\",\"X2\",\"Class\"],delim_whitespace=True)\n",
    "df.head()"
   ]
  },
  {
   "cell_type": "markdown",
   "metadata": {},
   "source": [
    "# Plot the data points"
   ]
  },
  {
   "cell_type": "code",
   "execution_count": 3,
   "metadata": {},
   "outputs": [],
   "source": [
    "positive = df[df['Class'].isin([1])]\n",
    "negative = df[df['Class'].isin([0])]"
   ]
  },
  {
   "cell_type": "code",
   "execution_count": 4,
   "metadata": {},
   "outputs": [
    {
     "data": {
      "text/plain": [
       "<matplotlib.legend.Legend at 0x1140d5a20>"
      ]
     },
     "execution_count": 4,
     "metadata": {},
     "output_type": "execute_result"
    },
    {
     "data": {
      "image/png": "[encoded data removed]",
      "text/plain": [
       "<Figure size 864x576 with 1 Axes>"
      ]
     },
     "metadata": {},
     "output_type": "display_data"
    }
   ],
   "source": [
    "fig,ax=plt.subplots(figsize=(12,8))\n",
    "ax.plot(positive[\"X1\"],positive[\"X2\"],'ro',label='Class 1',markersize=10,markeredgecolor=\"black\")\n",
    "ax.plot(negative[\"X1\"],negative[\"X2\"],'bo',label='Class 2',markersize=10,markeredgecolor=\"black\")\n",
    "ax.set_xlabel(\"X1\")\n",
    "ax.set_ylabel(\"X2\")\n",
    "ax.legend(loc=0,prop={'size': 15})"
   ]
  },
  {
   "cell_type": "markdown",
   "metadata": {},
   "source": [
    "# Define sigmoid function"
   ]
  },
  {
   "cell_type": "code",
   "execution_count": 5,
   "metadata": {},
   "outputs": [],
   "source": [
    "def sigmoid(z):\n",
    "    return 1/ (1+np.exp(-z))"
   ]
  },
  {
   "cell_type": "markdown",
   "metadata": {},
   "source": [
    "# Define cost function"
   ]
  },
  {
   "cell_type": "code",
   "execution_count": 6,
   "metadata": {},
   "outputs": [],
   "source": [
    "def costFunction(theta,X,Y):\n",
    "    theta = np.matrix(theta)\n",
    "    X = np.matrix(X)\n",
    "    Y = np.matrix(Y)\n",
    "    first = np.multiply(-Y,np.log(sigmoid(X*theta.T)))\n",
    "    second=np.multiply((1-Y),np.log(1-sigmoid(X*theta.T)))\n",
    "    return np.sum(first-second)/len(X)"
   ]
  },
  {
   "cell_type": "markdown",
   "metadata": {},
   "source": [
    "# Insert constant 1 to the front of the data"
   ]
  },
  {
   "cell_type": "code",
   "execution_count": 7,
   "metadata": {},
   "outputs": [],
   "source": [
    "df.insert(0,\"Ones\",1)"
   ]
  },
  {
   "cell_type": "markdown",
   "metadata": {},
   "source": [
    "# Split the data to X and Y"
   ]
  },
  {
   "cell_type": "code",
   "execution_count": 8,
   "metadata": {},
   "outputs": [],
   "source": [
    "X=df.loc[:,[\"Ones\",\"X1\",\"X2\"]]\n",
    "Y=df.loc[:,[\"Class\"]]"
   ]
  },
  {
   "cell_type": "markdown",
   "metadata": {},
   "source": [
    "# Split the data to train set and test set"
   ]
  },
  {
   "cell_type": "code",
   "execution_count": 9,
   "metadata": {},
   "outputs": [],
   "source": [
    "X=np.array(X)\n",
    "Y=np.array(Y)\n",
    "theta=np.zeros(3)"
   ]
  },
  {
   "cell_type": "code",
   "execution_count": 10,
   "metadata": {},
   "outputs": [
    {
     "data": {
      "text/plain": [
       "((100, 3), (100, 1))"
      ]
     },
     "execution_count": 10,
     "metadata": {},
     "output_type": "execute_result"
    }
   ],
   "source": [
    "X.shape,Y.shape"
   ]
  },
  {
   "cell_type": "code",
   "execution_count": 11,
   "metadata": {},
   "outputs": [
    {
     "data": {
      "text/plain": [
       "0.69314718055994529"
      ]
     },
     "execution_count": 11,
     "metadata": {},
     "output_type": "execute_result"
    }
   ],
   "source": [
    "costFunction(theta,X,Y)"
   ]
  },
  {
   "cell_type": "markdown",
   "metadata": {},
   "source": [
    "# Define gradient function"
   ]
  },
  {
   "cell_type": "code",
   "execution_count": 12,
   "metadata": {},
   "outputs": [],
   "source": [
    "def gradient(theta,X,Y):\n",
    "    theta = np.matrix(theta)\n",
    "    X = np.matrix(X)\n",
    "    Y = np.matrix(Y)\n",
    "    parameters=int(theta.ravel().shape[1])\n",
    "    grad=np.zeros(parameters)\n",
    "    \n",
    "    error=sigmoid(X*theta.T)-Y\n",
    "    \n",
    "    for i in range(parameters):\n",
    "        term=np.multiply(error,X[:,i])\n",
    "        grad[i]=np.sum(term)/len(X)\n",
    "    return grad"
   ]
  },
  {
   "cell_type": "code",
   "execution_count": 13,
   "metadata": {},
   "outputs": [
    {
     "data": {
      "text/plain": [
       "array([-0.03      ,  0.02355558,  1.71974059])"
      ]
     },
     "execution_count": 13,
     "metadata": {},
     "output_type": "execute_result"
    }
   ],
   "source": [
    "gradient(theta,X,Y)"
   ]
  },
  {
   "cell_type": "markdown",
   "metadata": {},
   "source": [
    "# Find the solution by convex optimization"
   ]
  },
  {
   "cell_type": "code",
   "execution_count": 21,
   "metadata": {},
   "outputs": [
    {
     "data": {
      "text/plain": [
       "      fun: 0.09315760569213698\n",
       " hess_inv: array([[ 1920.50906468,   128.0111327 ,  -256.57030215],\n",
       "       [  128.0111327 ,    33.15634902,   -18.06544321],\n",
       "       [ -256.57030215,   -18.06544321,    34.89025083]])\n",
       "      jac: array([  4.04193997e-07,   1.78813934e-07,   3.09199095e-06])\n",
       "  message: 'Optimization terminated successfully.'\n",
       "     nfev: 135\n",
       "      nit: 25\n",
       "     njev: 27\n",
       "   status: 0\n",
       "  success: True\n",
       "        x: array([ 14.75215836,   1.25358526,  -2.00267219])"
      ]
     },
     "execution_count": 21,
     "metadata": {},
     "output_type": "execute_result"
    }
   ],
   "source": [
    "result = minimize(costFunction, theta, args=(X,Y), options={'maxiter':400})\n",
    "result"
   ]
  },
  {
   "cell_type": "code",
   "execution_count": 23,
   "metadata": {},
   "outputs": [
    {
     "name": "stdout",
     "output_type": "stream",
     "text": [
      "The intercept is 14.7521583587\n",
      "The coefficient is [ 1.25358526 -2.00267219]\n",
      "The new cost is 0.0931576056921\n"
     ]
    }
   ],
   "source": [
    "print(\"The intercept is\",result.x[0])\n",
    "print(\"The coefficient is\",result.x[1:])\n",
    "print(\"The new cost is\",costFunction(result.x,X,Y))"
   ]
  },
  {
   "cell_type": "markdown",
   "metadata": {},
   "source": [
    "# Define predict function"
   ]
  },
  {
   "cell_type": "code",
   "execution_count": 16,
   "metadata": {},
   "outputs": [],
   "source": [
    "def predict(theta,X):\n",
    "    probability=sigmoid(X * theta.T)\n",
    "    return [1 if x >= 0.5 else 0 for x in probability]"
   ]
  },
  {
   "cell_type": "code",
   "execution_count": 17,
   "metadata": {},
   "outputs": [
    {
     "name": "stdout",
     "output_type": "stream",
     "text": [
      "Accuracy = 95%\n"
     ]
    }
   ],
   "source": [
    "theta_min=np.matrix(result.x)\n",
    "predictions=predict(theta_min,X)\n",
    "correct=[1 if ((a==1 and b==1) or (a == 0 and b == 0)) else 0 for (a,b) in zip(predictions,Y)]\n",
    "accuracy=(sum(map(int,correct))%len(correct))\n",
    "print(\"Accuracy = {0}%\".format(accuracy))"
   ]
  },
  {
   "cell_type": "markdown",
   "metadata": {},
   "source": [
    "# Plot the decision boundary"
   ]
  },
  {
   "cell_type": "code",
   "execution_count": 18,
   "metadata": {
    "scrolled": false
   },
   "outputs": [
    {
     "data": {
      "text/plain": [
       "<matplotlib.legend.Legend at 0x1144e0550>"
      ]
     },
     "execution_count": 18,
     "metadata": {},
     "output_type": "execute_result"
    },
    {
     "data": {
      "image/png": "[encoded data removed]",
      "text/plain": [
       "<Figure size 864x576 with 1 Axes>"
      ]
     },
     "metadata": {},
     "output_type": "display_data"
    }
   ],
   "source": [
    "boundary_xs = np.array([np.min(X[:,1]), np.max(X[:,1])])\n",
    "boundary_ys = (-1./result.x[2])*(result.x[0] + result.x[1]*boundary_xs)\n",
    "fig,ax=plt.subplots(figsize=(12,8))\n",
    "ax.plot(positive[\"X1\"],positive[\"X2\"],'ro',label='Class 1',markersize=10,markeredgecolor=\"black\")\n",
    "ax.plot(negative[\"X1\"],negative[\"X2\"],'go',label='Class 2',markersize=10,markeredgecolor=\"black\")\n",
    "ax.plot(boundary_xs,boundary_ys,'b-',label='Decision Boundary')\n",
    "ax.set_xlabel(\"X1\")\n",
    "ax.set_ylabel(\"X2\")\n",
    "ax.legend(loc=0,prop={'size': 15})"
   ]
  },
  {
   "cell_type": "markdown",
   "metadata": {},
   "source": [
    "# Predict with x1 value of -2 and x2 value of 4"
   ]
  },
  {
   "cell_type": "code",
   "execution_count": 20,
   "metadata": {},
   "outputs": [
    {
     "name": "stdout",
     "output_type": "stream",
     "text": [
      "Class with x1 value of -2 and x2 value of 4 has 98.57% to be class 1\n"
     ]
    }
   ],
   "source": [
    "temp=np.array([1,-2,4])\n",
    "temp=np.reshape(temp,(1,3))\n",
    "prob=sigmoid(temp*theta_min.T).tolist()[0][0]\n",
    "print(\"Class with x1 value of -2 and x2 value of 4 has \"+str(round(prob*100,2))+\"% to be class 1\")"
   ]
  },
  {
   "cell_type": "code",
   "execution_count": null,
   "metadata": {},
   "outputs": [],
   "source": []
  }
 ],
 "metadata": {
  "kernelspec": {
   "display_name": "Python 3",
   "language": "python",
   "name": "python3"
  },
  "language_info": {
   "codemirror_mode": {
    "name": "ipython",
    "version": 3
   },
   "file_extension": ".py",
   "mimetype": "text/x-python",
   "name": "python",
   "nbconvert_exporter": "python",
   "pygments_lexer": "ipython3",
   "version": "3.6.4"
  }
 },
 "nbformat": 4,
 "nbformat_minor": 2
}
